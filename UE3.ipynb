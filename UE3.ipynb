{
  "nbformat": 4,
  "nbformat_minor": 0,
  "metadata": {
    "colab": {
      "name": "UE3.ipynb",
      "provenance": [],
      "include_colab_link": true
    },
    "kernelspec": {
      "name": "python3",
      "display_name": "Python 3"
    },
    "language_info": {
      "name": "python"
    }
  },
  "cells": [
    {
      "cell_type": "markdown",
      "metadata": {
        "id": "view-in-github",
        "colab_type": "text"
      },
      "source": [
        "<a href=\"https://colab.research.google.com/github/busrasari/INF506-DataAnalysisMethods/blob/main/UE3.ipynb\" target=\"_parent\"><img src=\"https://colab.research.google.com/assets/colab-badge.svg\" alt=\"Open In Colab\"/></a>"
      ]
    },
    {
      "cell_type": "markdown",
      "metadata": {
        "id": "OmjSCzv6aSCk"
      },
      "source": [
        "#1"
      ]
    },
    {
      "cell_type": "code",
      "metadata": {
        "colab": {
          "base_uri": "https://localhost:8080/"
        },
        "id": "1YNmpHdWYbKG",
        "outputId": "e021130c-bac7-4080-9e64-0dd5e2181191"
      },
      "source": [
        "import os\n",
        "import tarfile\n",
        "import urllib.request\n",
        "\n",
        "DOWNLOAD_ROOT = \"http://spamassassin.apache.org/old/publiccorpus/\"\n",
        "HAM_URL = DOWNLOAD_ROOT + \"20030228_easy_ham.tar.bz2\"\n",
        "SPAM_URL = DOWNLOAD_ROOT + \"20030228_spam.tar.bz2\"\n",
        "SPAM_PATH = os.path.join(\"datasets\", \"spam\")\n",
        "\n",
        "def fetch_spam_data(ham_url=HAM_URL, spam_url=SPAM_URL, spam_path=SPAM_PATH):\n",
        "   if not os.path.isdir(spam_path):\n",
        "       os.makedirs(spam_path)\n",
        "   for filename, url in ((\"ham.tar.bz2\", ham_url), (\"spam.tar.bz2\", spam_url)):\n",
        "       path = os.path.join(spam_path, filename)\n",
        "       if not os.path.isfile(path):\n",
        "           urllib.request.urlretrieve(url, path)\n",
        "       tar_bz2_file = tarfile.open(path)\n",
        "       tar_bz2_file.extractall(path=spam_path)\n",
        "       tar_bz2_file.close()\n",
        "\n",
        "fetch_spam_data()\n",
        "\n",
        "HAM_DIR = os.path.join(SPAM_PATH, \"easy_ham\")\n",
        "SPAM_DIR = os.path.join(SPAM_PATH, \"spam\")\n",
        "ham_filenames = [name for name in sorted(os.listdir(HAM_DIR)) if len(name) > 20]\n",
        "spam_filenames = [name for name in sorted(os.listdir(SPAM_DIR)) if len(name) > 20]\n",
        "\n",
        "print(len(ham_filenames))\n",
        "print(len(spam_filenames))\n"
      ],
      "execution_count": null,
      "outputs": [
        {
          "output_type": "stream",
          "name": "stdout",
          "text": [
            "2500\n",
            "500\n"
          ]
        }
      ]
    },
    {
      "cell_type": "markdown",
      "metadata": {
        "id": "sptIDy2YaaqL"
      },
      "source": [
        "#2"
      ]
    },
    {
      "cell_type": "code",
      "metadata": {
        "colab": {
          "base_uri": "https://localhost:8080/"
        },
        "id": "jN4DnxJRZ51K",
        "outputId": "2280dfeb-e094-43df-db17-7933b617d986"
      },
      "source": [
        "import email\n",
        "import email.policy\n",
        "\n",
        "def load_email(is_spam, filename, spam_path=SPAM_PATH):\n",
        "   directory = \"spam\" if is_spam else \"easy_ham\"\n",
        "   with open(os.path.join(spam_path, directory, filename), \"rb\") as f:\n",
        "       return email.parser.BytesParser(policy=email.policy.default).parse(f)\n",
        "\n",
        "ham_emails = [load_email(is_spam=False, filename=name) for name in ham_filenames]\n",
        "spam_emails = [load_email(is_spam=True, filename=name) for name in spam_filenames]\n",
        "\n",
        "print(ham_emails[1].get_content().strip())\n"
      ],
      "execution_count": null,
      "outputs": [
        {
          "output_type": "stream",
          "name": "stdout",
          "text": [
            "Martin A posted:\n",
            "Tassos Papadopoulos, the Greek sculptor behind the plan, judged that the\n",
            " limestone of Mount Kerdylio, 70 miles east of Salonika and not far from the\n",
            " Mount Athos monastic community, was ideal for the patriotic sculpture. \n",
            " \n",
            " As well as Alexander's granite features, 240 ft high and 170 ft wide, a\n",
            " museum, a restored amphitheatre and car park for admiring crowds are\n",
            "planned\n",
            "---------------------\n",
            "So is this mountain limestone or granite?\n",
            "If it's limestone, it'll weather pretty fast.\n",
            "\n",
            "------------------------ Yahoo! Groups Sponsor ---------------------~-->\n",
            "4 DVDs Free +s&p Join Now\n",
            "http://us.click.yahoo.com/pt6YBB/NXiEAA/mG3HAA/7gSolB/TM\n",
            "---------------------------------------------------------------------~->\n",
            "\n",
            "To unsubscribe from this group, send an email to:\n",
            "forteana-unsubscribe@egroups.com\n",
            "\n",
            " \n",
            "\n",
            "Your use of Yahoo! Groups is subject to http://docs.yahoo.com/info/terms/\n"
          ]
        }
      ]
    },
    {
      "cell_type": "code",
      "metadata": {
        "colab": {
          "base_uri": "https://localhost:8080/"
        },
        "id": "Nb4TNx6qZ_2O",
        "outputId": "32a2327f-ae26-4fb0-e70d-632ee2b97a86"
      },
      "source": [
        "print(spam_emails[6].get_content().strip())"
      ],
      "execution_count": null,
      "outputs": [
        {
          "output_type": "stream",
          "name": "stdout",
          "text": [
            "Help wanted.  We are a 14 year old fortune 500 company, that is\n",
            "growing at a tremendous rate.  We are looking for individuals who\n",
            "want to work from home.\n",
            "\n",
            "This is an opportunity to make an excellent income.  No experience\n",
            "is required.  We will train you.\n",
            "\n",
            "So if you are looking to be employed from home with a career that has\n",
            "vast opportunities, then go:\n",
            "\n",
            "http://www.basetel.com/wealthnow\n",
            "\n",
            "We are looking for energetic and self motivated people.  If that is you\n",
            "than click on the link and fill out the form, and one of our\n",
            "employement specialist will contact you.\n",
            "\n",
            "To be removed from our link simple go to:\n",
            "\n",
            "http://www.basetel.com/remove.html\n",
            "\n",
            "\n",
            "4139vOLW7-758DoDY1425FRhM1-764SMFc8513fCsLl40\n"
          ]
        }
      ]
    },
    {
      "cell_type": "code",
      "metadata": {
        "colab": {
          "base_uri": "https://localhost:8080/"
        },
        "id": "qmcWWan_aEkX",
        "outputId": "1b05002c-8c30-4a06-fff9-0fd984b6c5e8"
      },
      "source": [
        "print(spam_emails[0][\"Subject\"])\n"
      ],
      "execution_count": null,
      "outputs": [
        {
          "output_type": "stream",
          "name": "stdout",
          "text": [
            "Life Insurance - Why Pay More?\n"
          ]
        }
      ]
    },
    {
      "cell_type": "markdown",
      "metadata": {
        "id": "dQIOu6YPaWdB"
      },
      "source": [
        "#3"
      ]
    },
    {
      "cell_type": "code",
      "metadata": {
        "colab": {
          "base_uri": "https://localhost:8080/"
        },
        "id": "Uuwy8kB-aIh-",
        "outputId": "9f4e3431-1a1c-4330-a4fc-650658180827"
      },
      "source": [
        "import numpy as np\n",
        "import re\n",
        "from html import unescape\n",
        "\n",
        "X = np.array(spam_emails + ham_emails, dtype=object)\n",
        "\n",
        "\n",
        "def html_to_plain_text(html):\n",
        "   text = re.sub('<head.*?>.*?</head>', '', html, flags=re.M | re.S | re.I)\n",
        "   text = re.sub('<a\\s.*?>', ' HYPERLINK ', text, flags=re.M | re.S | re.I)\n",
        "   text = re.sub('<.*?>', '', text, flags=re.M | re.S)\n",
        "   text = re.sub(r'(\\s*\\n)+', '\\n', text, flags=re.M | re.S)\n",
        "   return unescape(text)\n",
        "\n",
        "def email_to_text(email):\n",
        "   html = None\n",
        "   for part in email.walk():\n",
        "       ctype = part.get_content_type()\n",
        "       if not ctype in (\"text/plain\", \"text/html\"):\n",
        "           continue\n",
        "       try:\n",
        "           content = part.get_content()\n",
        "       except: # in case of encoding issues\n",
        "           content = str(part.get_payload())\n",
        "       if ctype == \"text/plain\":\n",
        "           return content\n",
        "       else:\n",
        "           html = content\n",
        "   if html:\n",
        "       return html_to_plain_text(html)\n",
        "\n",
        "\n",
        "sample_html_spam = X[0]\n",
        "print(html_to_plain_text(sample_html_spam.get_content()))\n"
      ],
      "execution_count": null,
      "outputs": [
        {
          "output_type": "stream",
          "name": "stdout",
          "text": [
            "\n",
            "Save up to 70% on Life Insurance.\n",
            "Why Spend More Than You Have To?\n",
            "Life Quote Savings\n",
            "    Ensuring your\n",
            "      family's financial security is very important. Life Quote Savings makes\n",
            "      buying life insurance simple and affordable. We Provide FREE Access to The\n",
            "      Very Best Companies and The Lowest Rates.\n",
            "          Life Quote Savings is FAST, EASY and\n",
            "            SAVES you money! Let us help you get started with the best values in\n",
            "            the country on new coverage. You can SAVE hundreds or even thousands\n",
            "            of dollars by requesting a FREE quote from Lifequote Savings. Our\n",
            "            service will take you less than 5 minutes to complete. Shop and\n",
            "            compare. SAVE up to 70% on all types of Life insurance!\n",
            "             HYPERLINK Click Here For Your\n",
            "            Free Quote!\n",
            "          Protecting your family is the best investment you'll ever\n",
            "          make!\n",
            "      If you are in receipt of this email\n",
            "      in error and/or wish to be removed from our list,  HYPERLINK PLEASE CLICK HERE AND TYPE REMOVE. If you\n",
            "      reside in any state which prohibits e-mail solicitations for insurance,\n",
            "      please disregard this\n",
            "      email.\n",
            "\n"
          ]
        }
      ]
    }
  ]
}