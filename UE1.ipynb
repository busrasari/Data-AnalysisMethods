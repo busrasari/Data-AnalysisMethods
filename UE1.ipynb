{
  "nbformat": 4,
  "nbformat_minor": 0,
  "metadata": {
    "colab": {
      "name": "UE1.ipynb",
      "provenance": [],
      "include_colab_link": true
    },
    "kernelspec": {
      "name": "python3",
      "display_name": "Python 3"
    },
    "language_info": {
      "name": "python"
    }
  },
  "cells": [
    {
      "cell_type": "markdown",
      "metadata": {
        "id": "view-in-github",
        "colab_type": "text"
      },
      "source": [
        "<a href=\"https://colab.research.google.com/github/busrasari/INF506-DataAnalysisMethods/blob/main/UE1.ipynb\" target=\"_parent\"><img src=\"https://colab.research.google.com/assets/colab-badge.svg\" alt=\"Open In Colab\"/></a>"
      ]
    },
    {
      "cell_type": "code",
      "metadata": {
        "id": "Ao3hCal9aktU"
      },
      "source": [
        "import math\n",
        "from collections import Counter\n",
        "import random\n",
        "import matplotlib.pyplot as plt\n",
        "from scipy.stats import norm\n",
        "import statistics\n",
        "\n",
        "def normal_cdf(x, mu=0,sigma=1):\n",
        "   return (1 + math.erf((x - mu) / math.sqrt(2) / sigma)) / 2\n"
      ],
      "execution_count": null,
      "outputs": []
    },
    {
      "cell_type": "markdown",
      "metadata": {
        "id": "R0vWVK8nayS3"
      },
      "source": [
        "# method 1\n"
      ]
    },
    {
      "cell_type": "code",
      "metadata": {
        "colab": {
          "base_uri": "https://localhost:8080/",
          "height": 294
        },
        "id": "5QyS77a4a3O6",
        "outputId": "464df21f-23a5-4b0e-c980-c59965144286"
      },
      "source": [
        "def inverse_normal_cdf(p, mu=0, sigma=1, tolerance=0.00001):\n",
        "   \"\"\"find approximate inverse using binary search\"\"\"\n",
        "   # if not standard, compute standard and rescale\n",
        "   if mu != 0 or sigma != 1:\n",
        "       return mu + sigma * inverse_normal_cdf(p, tolerance=tolerance)\n",
        "   low_z, low_p = -10.0, 0  # normal_cdf(-10) is (very close to) 0\n",
        "   hi_z, hi_p = 10.0, 1  # normal_cdf(10) is (very close to) 1\n",
        "   while hi_z - low_z > tolerance:\n",
        "       mid_z = (low_z + hi_z) / 2  # consider the midpoint\n",
        "       mid_p = normal_cdf(mid_z)  # and the cdf's value there\n",
        "       if mid_p < p:\n",
        "           # midpoint is still too low, search above it\n",
        "           low_z, low_p = mid_z, mid_p\n",
        "       elif mid_p > p:\n",
        "           # midpoint is still too high, search below it\n",
        "           hi_z, hi_p = mid_z, mid_p\n",
        "       else:\n",
        "           break\n",
        "   return mid_z\n",
        "\n",
        "random.seed(3)\n",
        "ps = [random.random() for _ in range(10000)]\n",
        "normal = [inverse_normal_cdf(ps[i], mu=0, sigma=57, tolerance=0.00001) for i in range(10000)]   \n",
        "\n",
        "plt.hist(normal, bins = 45)\n",
        "plt.suptitle(\"Normal Histogram_1\")\n",
        "plt.show()\n"
      ],
      "execution_count": null,
      "outputs": [
        {
          "output_type": "display_data",
          "data": {
            "image/png": "[encoded data removed]",
            "text/plain": [
              "<Figure size 432x288 with 1 Axes>"
            ]
          },
          "metadata": {
            "needs_background": "light"
          }
        }
      ]
    },
    {
      "cell_type": "markdown",
      "metadata": {
        "id": "DEB4YzPha5vT"
      },
      "source": [
        "## method 2"
      ]
    },
    {
      "cell_type": "code",
      "metadata": {
        "colab": {
          "base_uri": "https://localhost:8080/",
          "height": 294
        },
        "id": "hW1ohkJma92G",
        "outputId": "a00e5794-e1ca-41d7-ef09-df5a0448100c"
      },
      "source": [
        "normal2 = [norm.ppf(ps[i]) for i in range(10000)]\n",
        "\n",
        "plt.hist(normal2, bins = 45)\n",
        "plt.suptitle(\"Normal Histogram_2\")\n",
        "plt.show()\n"
      ],
      "execution_count": null,
      "outputs": [
        {
          "output_type": "display_data",
          "data": {
            "image/png": "[encoded data removed]",
            "text/plain": [
              "<Figure size 432x288 with 1 Axes>"
            ]
          },
          "metadata": {
            "needs_background": "light"
          }
        }
      ]
    }
  ]
}